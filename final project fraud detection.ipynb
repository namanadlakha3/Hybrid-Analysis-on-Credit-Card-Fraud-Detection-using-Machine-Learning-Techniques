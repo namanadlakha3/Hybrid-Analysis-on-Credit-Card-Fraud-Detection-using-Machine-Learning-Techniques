{
 "cells": [
  {
   "cell_type": "code",
   "execution_count": null,
   "metadata": {},
   "outputs": [],
   "source": [
    "import pandas as pd\n",
    "import numpy as np\n",
    "from sklearn.ensemble import ExtraTreesClassifier\n",
    "import matplotlib.pyplot as plt\n",
    "from warnings import simplefilter\n",
    "%matplotlib inline\n",
    "simplefilter(action='ignore', category=FutureWarning)\n",
    "data = pd.read_csv(\"creditcard.csv\")\n",
    "X = data.iloc[:,0:30]\n",
    "y = data.iloc[:,-1]   \n",
    "model = ExtraTreesClassifier()\n",
    "model.fit(X,y)\n",
    "print(model.feature_importances_)\n",
    "feat_importances = pd.Series(model.feature_importances_, index=X.columns)\n",
    "feat_importances.nlargest(10).plot(kind='barh')"
   ]
  },
  {
   "cell_type": "code",
   "execution_count": null,
   "metadata": {},
   "outputs": [],
   "source": [
    "data= data.rename(columns={\"Class\" : \"Target\"})\n",
    "print('Normal transactions count: ', data['Target'].value_counts().values[0])\n",
    "print('Fraudulent transactions count: ', data['Target'].value_counts().values[1])"
   ]
  },
  {
   "cell_type": "code",
   "execution_count": null,
   "metadata": {},
   "outputs": [],
   "source": [
    "from sklearn.model_selection import train_test_split\n",
    "from collections import Counter\n",
    "feature_cols = ['V11','V12','V14','V17','V18']\n",
    "X =data.loc[:, feature_cols].values\n",
    "y = data['Target']"
   ]
  },
  {
   "cell_type": "code",
   "execution_count": null,
   "metadata": {},
   "outputs": [],
   "source": [
    "from imblearn.over_sampling import SMOTE\n",
    "sm= SMOTE(random_state=32)\n",
    "X_res,y_res = sm.fit_resample(X,y)\n",
    "X_train, X_test, y_train, y_test = train_test_split(X_res,y_res,test_size=0.33, random_state=0)\n",
    "print('Resampled dataset shape {}'.format(Counter(y_res)))"
   ]
  },
  {
   "cell_type": "code",
   "execution_count": null,
   "metadata": {},
   "outputs": [],
   "source": [
    "X_new = X_res\n",
    "y_new =  y_res"
   ]
  },
  {
   "cell_type": "code",
   "execution_count": null,
   "metadata": {},
   "outputs": [],
   "source": [
    "from imblearn.under_sampling import NearMiss\n",
    "sampler = NearMiss(ratio={1: 30000, 0: 30000},random_state=0)\n",
    "X_res, y_res = sampler.fit_sample(X_new, y_new)\n",
    "print('NearMiss{}'.format(Counter(y_res)))"
   ]
  },
  {
   "cell_type": "code",
   "execution_count": null,
   "metadata": {},
   "outputs": [],
   "source": [
    "X_train, X_test, y_train, y_test = train_test_split(X_res,y_res,test_size=0.33, random_state=1)"
   ]
  },
  {
   "cell_type": "code",
   "execution_count": null,
   "metadata": {},
   "outputs": [],
   "source": [
    "from sklearn.neighbors import KNeighborsClassifier\n",
    "from sklearn.model_selection import cross_val_score\n",
    "from sklearn.metrics import confusion_matrix \n",
    "from sklearn.metrics import accuracy_score \n",
    "from sklearn.metrics import classification_report\n",
    "import matplotlib.pyplot as plt\n",
    "from sklearn import metrics\n",
    "knn = KNeighborsClassifier()\n",
    "knn=knn.fit(X_train, y_train)t\n",
    "y_pred = knn.predict(X_test)\n",
    "print(\"Accuracy:\",metrics.accuracy_score(y_test, y_pred))\n",
    "results = confusion_matrix(y_test, y_pred) \n",
    "print (\"Confusion Matrix :\")\n",
    "print(results) "
   ]
  },
  {
   "cell_type": "code",
   "execution_count": null,
   "metadata": {},
   "outputs": [],
   "source": [
    "from sklearn.neighbors import KNeighborsClassifier\n",
    "knn = KNeighborsClassifier()\n",
    "knn=knn.fit(X_train, y_train)\n",
    "y_pred = knn.predict_proba(X_test)[:,1]\n",
    "# Visualisation with plot_metric\n",
    "bc =BinaryClassification(y_test, y_pred, labels=[\"Class 1\", \"Class 2\"])\n",
    "fig = plt.figure(figsize=(8,6))\n",
    "bc.plot_roc_curve(title='ROC Curve KNN Model Analysis')\n",
    "plt.show()"
   ]
  },
  {
   "cell_type": "code",
   "execution_count": null,
   "metadata": {},
   "outputs": [],
   "source": [
    "from sklearn.linear_model import LogisticRegression\n",
    "from sklearn.metrics import confusion_matrix \n",
    "from sklearn.metrics import accuracy_score \n",
    "from sklearn.metrics import classification_report\n",
    "import matplotlib.pyplot as plt\n",
    "LGR_Classifier = LogisticRegression(random_state=3)\n",
    "LGR_Classifier.fit(X_train, y_train)\n",
    "y_pred = LGR_Classifier.predict(X_train)\n",
    "print(\"Accuracy:\",metrics.accuracy_score(y_train, y_pred)*100)\n",
    "results = confusion_matrix(y_test, y_pred) \n",
    "print (\"Confusion Matrix :\")\n",
    "print(results) "
   ]
  },
  {
   "cell_type": "code",
   "execution_count": null,
   "metadata": {},
   "outputs": [],
   "source": [
    "import matplotlib.pyplot as plt\n",
    "from sklearn.linear_model import LogisticRegression\n",
    "from plot_metric.functions import BinaryClassification\n",
    "LGR_Classifier = LogisticRegression(random_state=3)\n",
    "LGR_Classifier.fit(X_train, y_train)\n",
    "y_pred = LGR_Classifier.predict_proba(X_test)[:,1]\n",
    "bc =BinaryClassification(y_test, y_pred, labels=[\"Class 1\", \"Class 2\"])\n",
    "fig = plt.figure(figsize=(8,6))\n",
    "bc.plot_roc_curve(title='ROC Curve Logistic Regresion Model Analysis')\n",
    "plt.show()"
   ]
  },
  {
   "cell_type": "code",
   "execution_count": null,
   "metadata": {},
   "outputs": [],
   "source": [
    "from sklearn.tree import DecisionTreeClassifier\n",
    "print(\"Train DataSet: \",X_train.shape)\n",
    "print(\"Test DataSet: \",X_test.shape)\n",
    "clf = DecisionTreeClassifier()\n",
    "clf = clf.fit(X_train,y_train)\n",
    "y_pred= clf.predict(X_test)\n",
    "print(\"Accuracy:\",metrics.accuracy_score(y_test,y_pred))\n",
    "results = confusion_matrix(y_test, y_pred) \n",
    "print (\"Confusion Matrix :\")\n",
    "print(results) \n",
    " "
   ]
  },
  {
   "cell_type": "code",
   "execution_count": null,
   "metadata": {},
   "outputs": [],
   "source": [
    "import matplotlib.pyplot as plt\n",
    "from sklearn.tree import DecisionTreeClassifier\n",
    "from plot_metric.functions import BinaryClassification\n",
    "clf = DecisionTreeClassifier()\n",
    "clf = clf.fit(X_train,y_train)\n",
    "y_pred = clf.predict_proba(X_test)[:,1]\n",
    "ba =BinaryClassification(y_test, y_pred, labels=[\"Class 1\", \"Class 2\"])\n",
    "plt.figure(figsize=(8,6))\n",
    "ba.plot_roc_curve(title='ROC Curve Decision Tree Model Analysis')\n",
    "plt.show()"
   ]
  },
  {
   "cell_type": "code",
   "execution_count": null,
   "metadata": {},
   "outputs": [],
   "source": [
    "from sklearn import svm\n",
    "from sklearn import metrics\n",
    "clf = svm.SVC(kernel='linear') # Linear Kernel\n",
    "clf.fit(X_train, y_train)\n",
    "y_pred = clf.predict(X_test)\n",
    "print(\"Accuracy:\",metrics.accuracy_score(y_test, y_pred)*100)\n",
    "results = confusion_matrix(y_test, y_pred) \n",
    "print (\"Confusion Matrix :\")\n",
    "print(results) "
   ]
  },
  {
   "cell_type": "code",
   "execution_count": null,
   "metadata": {},
   "outputs": [],
   "source": [
    "import matplotlib.pyplot as plt\n",
    "from plot_metric.functions import BinaryClassification\n",
    "from sklearn import svm\n",
    "from sklearn import metrics\n",
    "clf = svm.SVC(kernel='linear',  probability=True) # Linear Kernel\n",
    "clf.fit(X_train, y_train)\n",
    "y_pred = clf.predict_proba(X_test)[:,1]\n",
    "bc =BinaryClassification(y_test, y_pred, labels=[\"Class 1\", \"Class 2\"])\n",
    "plt.figure(figsize=(8,6))\n",
    "bc.plot_roc_curve(title='ROC Curve SVM Model Analysis')\n",
    "plt.show()"
   ]
  },
  {
   "cell_type": "code",
   "execution_count": null,
   "metadata": {},
   "outputs": [],
   "source": [
    "import numpy as np\n",
    "from sklearn import svm\n",
    "from sklearn.linear_model import LogisticRegression\n",
    "from sklearn.ensemble import BaggingClassifier\n",
    "from sklearn import model_selection\n",
    "from sklearn.svm import SVC\n",
    "from sklearn.ensemble import VotingClassifier\n",
    "kfold = model_selection.KFold(n_splits=5, random_state=0)\n",
    "# create the sub models\n",
    "estimators = []\n",
    "model1 =  KNeighborsClassifier(n_neighbors=3)\n",
    "estimators.append(('knn', model1))\n",
    "model3 = DecisionTreeClassifier()\n",
    "estimators.append(('cart', model3))\n",
    "model2 =  LogisticRegression(random_state=3)\n",
    "estimators.append(('lr', model2))\n",
    "ensemble = VotingClassifier(estimators,voting='soft')\n",
    "results = model_selection.cross_val_score(ensemble, X_train, y_train, cv=kfold)\n",
    "print()\n",
    "print(results*100)\n",
    "print(results.mean())"
   ]
  },
  {
   "cell_type": "code",
   "execution_count": null,
   "metadata": {},
   "outputs": [],
   "source": [
    "model = ensemble.fit(X_train, y_train)\n",
    "y_pred = model.predict(X_test)\n",
    "results = confusion_matrix(y_test, y_pred) \n",
    "print (\"Confusion Matrix :\")\n",
    "print(results)"
   ]
  },
  {
   "cell_type": "code",
   "execution_count": null,
   "metadata": {},
   "outputs": [],
   "source": [
    "from sklearn.metrics import roc_curve\n",
    "from sklearn.metrics import roc_auc_score\n",
    "import matplotlib.pyplot as plt\n",
    "roc_auc_score = cross_val_score(ensemble, X_train, y_train, cv=kfold, scoring='roc_auc')\n",
    "print('roc_auc_score ',roc_auc_score.mean())\n",
    "model = ensemble.fit(X_train, y_train)\n",
    "y_pred_prob = model.predict_proba(X_test)[::, 1]\n",
    "fpr, tpr, thresholds = metrics.roc_curve(y_test, y_pred_prob)\n",
    "plt.figure(figsize=(6,6))\n",
    "plt.plot(fpr, tpr)\n",
    "plt.xlim([-0.5, 1.3])\n",
    "plt.ylim([0.0, 1.3])\n",
    "plt.plot([0,1], [0,1], color='orange', linestyle='--')\n",
    "plt.rcParams['font.size'] = 12\n",
    "plt.xlabel('False Positive Rate (1 - Specificity)')\n",
    "plt.ylabel('True Positive Rate (Sensitivity)')\n",
    "plt.title('ROC Curve Ensemble Model Analysis', fontweight='bold', fontsize=15)"
   ]
  },
  {
   "cell_type": "code",
   "execution_count": null,
   "metadata": {},
   "outputs": [],
   "source": [
    "from sklearn.model_selection import cross_val_score\n",
    "from sklearn.model_selection import train_test_split\n",
    "from sklearn.cluster import KMeans\n",
    "from sklearn import metrics\n",
    "from sklearn.metrics import confusion_matrix \n",
    "from sklearn.metrics import accuracy_score \n",
    "from sklearn.metrics import classification_report\n",
    "from sklearn.ensemble import AdaBoostClassifier\n",
    "from sklearn.preprocessing import LabelEncoder\n",
    "from sklearn.preprocessing import MinMaxScaler\n",
    "df_hist = pd.read_csv('creditcard.csv')\n",
    "df_hist= df_hist.rename(columns={\"Class\" : \"Target\"})\n",
    "y = df_hist['Target'].values\n",
    "#X = df_hist.values.astype(np.float)\n",
    "feature_cols = ['V11','V12','V14','V17','V18','V1','V2','V4','V7','V8','V9','V3','V21','V22','V20','V19']\n",
    "X =df_hist.loc[:, feature_cols].values\n",
    "X_train, X_test,y_train,y_test =train_test_split(X,y,test_size=0.30,random_state=2)\n",
    "k_means =KMeans(n_clusters=2)\n",
    "scaler = MinMaxScaler()\n",
    "X_scaled = scaler.fit_transform(X)\n",
    "k_means.fit(X_scaled)\n",
    "#score = accuracy_score(y_test,k_means.predict(X_test))\n",
    "print(\"Accuracy:\",metrics.accuracy_score(y_test,k_means.predict(X_test)))\n",
    "results = confusion_matrix(y_test, k_means.predict(X_test)) \n",
    "print (\"Confusion Matrix :\")\n",
    "print(results)\n",
    "y_pred = k_means.predict(X_test)\n",
    "# Visualisation with plot_metric\n",
    "bc =BinaryClassification(y_test, y_pred, labels=[\"Class 1\", \"Class 2\"])\n",
    "plt.figure(figsize=(8,6))\n",
    "bc.plot_roc_curve(title='ROC Curve K-Means Model Analysis')\n",
    "plt.show()"
   ]
  },
  {
   "cell_type": "code",
   "execution_count": null,
   "metadata": {},
   "outputs": [],
   "source": [
    "import pandas as pd\n",
    "import numpy as np\n",
    "import keras\n",
    "from keras import models\n",
    "from keras import layers\n",
    "from pandas import read_csv\n",
    "from pandas.plotting import scatter_matrix\n",
    "from matplotlib import pyplot\n",
    "from sklearn.model_selection import train_test_split\n",
    "from sklearn.model_selection import cross_val_score\n",
    "from sklearn.model_selection import StratifiedKFold\n",
    "from sklearn.metrics import classification_report\n",
    "from sklearn.metrics import confusion_matrix\n",
    "from sklearn.metrics import accuracy_score\n",
    "from sklearn.preprocessing import StandardScaler\n",
    "from imblearn.over_sampling import ADASYN\n",
    "from imblearn.over_sampling import SMOTE\n",
    "from collections import Counter\n",
    "from keras.models import Sequential\n",
    "from keras.layers import Dense\n",
    "from sklearn import metrics\n",
    "from warnings import simplefilter\n",
    "%matplotlib inline\n",
    "simplefilter(action='ignore', category=FutureWarning)\n",
    "data = pd.read_csv(\"creditcard.csv\")\n",
    "X =data.iloc[:,0:11]\n",
    "y = data['Class']\n",
    "X_train, X_test, y_train, y_test = train_test_split(X, y, test_size=0.33, random_state=42)\n",
    "from sklearn.preprocessing import StandardScaler\n",
    "scaler = StandardScaler().fit(X_train)\n",
    "X_train = scaler.transform(X_train)\n",
    "X_test = scaler.transform(X_test)\n",
    "model = Sequential()\n",
    "model.add(Dense(12, activation='relu', input_shape=(11,)))\n",
    "model.add(Dense(8, activation='relu'))\n",
    "model.add(Dense(1, activation='sigmoid'))\n",
    "model.compile(loss='binary_crossentropy', optimizer='adam', metrics=['accuracy'])\n",
    "model.fit(X_train, y_train,epochs=5, batch_size=1, verbose=1)\n",
    "y_pred = model.predict(X_test)\n",
    "y_pred = y_pred.round()\n",
    "score = model.evaluate(X_test, y_test,verbose=1)\n",
    "print(score)\n",
    "from sklearn.metrics import confusion_matrix\n",
    "confusion_matrix(y_test, y_pred)\n",
    "from sklearn.metrics import accuracy_score \n",
    "from sklearn.metrics import classification_report\n",
    "from plot_metric.functions import BinaryClassification\n",
    "bc=BinaryClassification(y_test,y_pred, labels=[\"Class 1\", \"Class 2\"])\n",
    "plt.figure(figsize=(8,6))\n",
    "bc.plot_roc_curve(title='ROC Curve Deep Learning Model Analysis')\n",
    "plt.show()"
   ]
  }
 ],
 "metadata": {
  "kernelspec": {
   "display_name": "Python 3",
   "language": "python",
   "name": "python3"
  },
  "language_info": {
   "codemirror_mode": {
    "name": "ipython",
    "version": 3
   },
   "file_extension": ".py",
   "mimetype": "text/x-python",
   "name": "python",
   "nbconvert_exporter": "python",
   "pygments_lexer": "ipython3",
   "version": "3.7.4"
  }
 },
 "nbformat": 4,
 "nbformat_minor": 2
}
